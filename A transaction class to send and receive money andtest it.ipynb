{
 "cells": [
  {
   "cell_type": "code",
   "execution_count": 1,
   "metadata": {
    "executionInfo": {
     "elapsed": 20,
     "status": "ok",
     "timestamp": 1687883198499,
     "user": {
      "displayName": "Sourish Chowdhury",
      "userId": "10466049879459539463"
     },
     "user_tz": -330
    },
    "id": "v_sLag1Oq33P"
   },
   "outputs": [],
   "source": [
    "class Bank:\n",
    "    def __init__(self):\n",
    "        self.balance = 0\n",
    "        print(\"Himanshu\\n\")\n",
    "        print(\"The account is created\")\n",
    "\n",
    "    def deposit(self):\n",
    "        amount = float(input(\"Enter the amount to be deposited: \"))\n",
    "        self.balance = self.balance + amount\n",
    "        print(\"The deposit is successful, and the balance in the account is %f\" % self.balance)\n",
    "\n",
    "    def withdraw(self):\n",
    "        amount = float(input(\"Enter the amount to withdraw: \"))\n",
    "        if self.balance >= amount:\n",
    "            self.balance = self.balance - amount\n",
    "            print(\"The withdrawal is successful, and the balance is %f\" % self.balance)\n",
    "        else:\n",
    "            print(\"Insufficient Balance\")\n",
    "\n",
    "    def enquiry(self):\n",
    "        print(\"Balance in the account is %f\" % self.balance)\n",
    "\n",
    "\n",
    "\n"
   ]
  },
  {
   "cell_type": "code",
   "execution_count": 2,
   "metadata": {
    "colab": {
     "base_uri": "https://localhost:8080/"
    },
    "executionInfo": {
     "elapsed": 17401,
     "status": "ok",
     "timestamp": 1687883226617,
     "user": {
      "displayName": "Sourish Chowdhury",
      "userId": "10466049879459539463"
     },
     "user_tz": -330
    },
    "id": "emHfmR5-rVPk",
    "outputId": "22442140-87d5-4c8a-ea07-739a8e24da83"
   },
   "outputs": [
    {
     "name": "stdout",
     "output_type": "stream",
     "text": [
      "Himanshu\n",
      "\n",
      "The account is created\n",
      "Enter the amount to be deposited: 500\n",
      "The deposit is successful, and the balance in the account is 500.000000\n",
      "Enter the amount to withdraw: 200\n",
      "The withdrawal is successful, and the balance is 300.000000\n",
      "Balance in the account is 300.000000\n"
     ]
    }
   ],
   "source": [
    "# Create an instance of the Bank class and perform operations\n",
    "acc = Bank()\n",
    "acc.deposit()\n",
    "acc.withdraw()\n",
    "acc.enquiry()"
   ]
  },
  {
   "cell_type": "code",
   "execution_count": null,
   "metadata": {},
   "outputs": [],
   "source": []
  }
 ],
 "metadata": {
  "colab": {
   "authorship_tag": "ABX9TyOcEK0t0dWMfAP/DbfbZRBY",
   "provenance": []
  },
  "kernelspec": {
   "display_name": "Python 3 (ipykernel)",
   "language": "python",
   "name": "python3"
  },
  "language_info": {
   "codemirror_mode": {
    "name": "ipython",
    "version": 3
   },
   "file_extension": ".py",
   "mimetype": "text/x-python",
   "name": "python",
   "nbconvert_exporter": "python",
   "pygments_lexer": "ipython3",
   "version": "3.9.13"
  }
 },
 "nbformat": 4,
 "nbformat_minor": 1
}
